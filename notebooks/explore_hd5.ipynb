{
 "cells": [
  {
   "cell_type": "code",
   "execution_count": 1,
   "id": "56050561-0f3a-46cb-9512-a543cb6e1804",
   "metadata": {
    "tags": []
   },
   "outputs": [],
   "source": [
    "import tellurium as te\n",
    "import h5py"
   ]
  },
  {
   "cell_type": "code",
   "execution_count": 3,
   "id": "d4520dfb-62b6-434f-9fae-6abe010a39cc",
   "metadata": {
    "tags": []
   },
   "outputs": [
    {
     "name": "stdout",
     "output_type": "stream",
     "text": [
      "LICENSE          \u001b[31mactivate.sh\u001b[m\u001b[m      \u001b[1m\u001b[36mmodels\u001b[m\u001b[m           \u001b[1m\u001b[36msrc\u001b[m\u001b[m\n",
      "README.md        \u001b[1m\u001b[36mdash\u001b[m\u001b[m             page_out.txt     \u001b[1m\u001b[36mtemp_indexdir\u001b[m\u001b[m\n",
      "Untitled.ipynb   \u001b[1m\u001b[36mindexdir\u001b[m\u001b[m         requirements.txt\n"
     ]
    }
   ],
   "source": [
    "!ls\n"
   ]
  },
  {
   "cell_type": "code",
   "execution_count": 4,
   "id": "a082db7a-6c6d-42a6-b82c-b93bb137acfb",
   "metadata": {
    "tags": []
   },
   "outputs": [],
   "source": [
    "rr = te.loadSBMLModel(\"models/model.xml\")"
   ]
  },
  {
   "cell_type": "code",
   "execution_count": 5,
   "id": "74589596-e03d-494d-b8d4-3f5eee2d0574",
   "metadata": {
    "tags": []
   },
   "outputs": [
    {
     "name": "stdout",
     "output_type": "stream",
     "text": [
      "// Created by libAntimony v2.13.2\n",
      "model *model_id()\n",
      "\n",
      "  // Compartments and Species:\n",
      "  compartment comp1;\n",
      "\n",
      "  // Compartment initializations:\n",
      "  comp1 = ;\n",
      "\n",
      "  // Other declarations:\n",
      "  const comp1;\n",
      "end\n",
      "\n"
     ]
    }
   ],
   "source": [
    "print(rr.getAntimony())"
   ]
  },
  {
   "cell_type": "markdown",
   "id": "9d028990-1f68-48af-a572-0999f4b2aa0b",
   "metadata": {},
   "source": [
    "$ HD 5"
   ]
  },
  {
   "cell_type": "code",
   "execution_count": 11,
   "id": "00b6bebf-fc0a-4d02-b05d-c1352e651b77",
   "metadata": {
    "tags": []
   },
   "outputs": [
    {
     "name": "stdout",
     "output_type": "stream",
     "text": [
      "reports.h5\n"
     ]
    }
   ],
   "source": [
    "!ls data"
   ]
  },
  {
   "cell_type": "code",
   "execution_count": 2,
   "id": "91155b30-2906-4906-9e63-f1da35faec98",
   "metadata": {
    "tags": []
   },
   "outputs": [],
   "source": [
    "h5_filename = \"../data/reports.h5\"\n",
    "f = h5py.File(h5_filename,'r')\n"
   ]
  },
  {
   "cell_type": "code",
   "execution_count": 32,
   "id": "9d463c11-f4ba-40cc-a977-775a67aed3fb",
   "metadata": {
    "tags": []
   },
   "outputs": [],
   "source": [
    "report = f['simulation.sedml']['report_del_Cln2']"
   ]
  },
  {
   "cell_type": "code",
   "execution_count": 28,
   "id": "8479942d-954a-4b79-b394-3eb005a08a34",
   "metadata": {
    "tags": []
   },
   "outputs": [
    {
     "data": {
      "text/plain": [
       "h5py._hl.group.Group"
      ]
     },
     "execution_count": 28,
     "metadata": {},
     "output_type": "execute_result"
    }
   ],
   "source": [
    "type(f['simulation.sedml'])"
   ]
  },
  {
   "cell_type": "code",
   "execution_count": 37,
   "id": "564c194a-84fd-43b5-b910-4d3455d0c4df",
   "metadata": {
    "tags": []
   },
   "outputs": [
    {
     "data": {
      "text/plain": [
       "['SedReport',\n",
       " array(['float64', 'float64', 'float64', 'float64', 'float64', 'float64',\n",
       "        'float64', 'float64', 'float64', 'float64', 'float64', 'float64',\n",
       "        'float64', 'float64', 'float64', 'float64', 'float64', 'float64',\n",
       "        'float64'], dtype=object),\n",
       " array(['del_Cln2_data_set_time', 'del_Cln2_data_set_Cln3',\n",
       "        'del_Cln2_data_set_SMBF', 'del_Cln2_data_set_Cln2',\n",
       "        'del_Cln2_data_set_Clb5', 'del_Cln2_data_set_Yhp1',\n",
       "        'del_Cln2_data_set_Clb2', 'del_Cln2_data_set_SFF',\n",
       "        'del_Cln2_data_set_Cdc20', 'del_Cln2_data_set_FEAR',\n",
       "        'del_Cln2_data_set_MEN', 'del_Cln2_data_set_Cdc14',\n",
       "        'del_Cln2_data_set_Swi5', 'del_Cln2_data_set_CKI',\n",
       "        'del_Cln2_data_set_Cdh1', 'del_Cln2_data_set_S',\n",
       "        'del_Cln2_data_set_B', 'del_Cln2_data_set_M',\n",
       "        'del_Cln2_data_set_CD'], dtype=object),\n",
       " array(['Time (dimensionless)', 'Cln3', 'SBF/MBF', 'Cln2', 'Clb5', 'Yhp1',\n",
       "        'Clb2', 'SFF', 'Cdc20', 'FEAR', 'MEN', 'Cdc14', 'Swi5', 'CKI',\n",
       "        'Cdh1', 'Synthesis', 'Bud growth', 'Mitosis', 'Cell Division'],\n",
       "       dtype=object),\n",
       " array(['', '', '', '', '', '', '', '', '', '', '', '', '', '', '', '', '',\n",
       "        '', ''], dtype=object),\n",
       " array(['101', '101', '101', '101', '101', '101', '101', '101', '101',\n",
       "        '101', '101', '101', '101', '101', '101', '101', '101', '101',\n",
       "        '101'], dtype=object),\n",
       " 'report_del_Cln2',\n",
       " 'simulation.sedml/report_del_Cln2']"
      ]
     },
     "execution_count": 37,
     "metadata": {},
     "output_type": "execute_result"
    }
   ],
   "source": [
    "[t for t in report.attrs.values()]"
   ]
  }
 ],
 "metadata": {
  "kernelspec": {
   "display_name": "Python 3 (ipykernel)",
   "language": "python",
   "name": "python3"
  },
  "language_info": {
   "codemirror_mode": {
    "name": "ipython",
    "version": 3
   },
   "file_extension": ".py",
   "mimetype": "text/x-python",
   "name": "python",
   "nbconvert_exporter": "python",
   "pygments_lexer": "ipython3",
   "version": "3.9.6"
  }
 },
 "nbformat": 4,
 "nbformat_minor": 5
}
